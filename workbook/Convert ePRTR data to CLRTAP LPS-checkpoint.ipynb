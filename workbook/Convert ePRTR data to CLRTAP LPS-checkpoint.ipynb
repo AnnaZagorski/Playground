{
 "cells": [
  {
   "cell_type": "markdown",
   "metadata": {},
   "source": [
    "# Convert ePRTR data to CLRTAP LPS submission\n",
    "Germany's thru.de website offers the German ePRTR dataset as a SQLITE database. In this script, I convert the data given to the LRTAP convention's Excel template format. On the way, some information is augmented from other sources, in particular stack heights and GNFR."
   ]
  },
  {
   "cell_type": "markdown",
   "metadata": {},
   "source": [
    "Let's start and connect to the database as downloaded from https://www.thru.de/thrude/downloads/"
   ]
  },
  {
   "cell_type": "code",
   "execution_count": null,
   "metadata": {},
   "outputs": [],
   "source": [
    "import sqlite3 as sql\n",
    "import pandas as pd\n",
    "import codecs"
   ]
  },
  {
   "cell_type": "code",
   "execution_count": null,
   "metadata": {},
   "outputs": [],
   "source": [
    "connection = sql.connect('../source/prtr_en.db')"
   ]
  },
  {
   "cell_type": "markdown",
   "metadata": {},
   "source": [
    "The database contains a couple of tables, but we are mainly interested in `facilities`, `activities` and `releases`. The `facilities` table already has the list of point sources we need and offers some properties right away. We can simply grap the names and coordinates, for example. As we only need the most current data, we will also filter on the `year` column.  "
   ]
  },
  {
   "cell_type": "markdown",
   "metadata": {},
   "source": [
    "Next, we need to match the point source's category (`prtr_id`) and the emissions from the `activities` and `releases` tables respectivly."
   ]
  },
  {
   "cell_type": "markdown",
   "metadata": {},
   "source": [
    "The query to achieve these two steps looks something like this:\n",
    "```\n",
    "SELECT name, prtr_key, wgs84_x, wgs84_y, releases.year, substance_name, annual_load, [...]\n",
    "FROM facilities\n",
    "INNER JOIN activities ON facilities.id = activities.facility_id\n",
    "INNER JOIN releases ON facilities.id = releases.facility_id\n",
    "WHERE releases.year = <year>)\n",
    "```"
   ]
  },
  {
   "cell_type": "markdown",
   "metadata": {},
   "source": [
    "This query will deliver a list of point sources and their releases, but there is still one row per pollutant. To get closer to our CLRTAP template, we need to transpose these emissions to columns and groups them by point source.\n",
    "\n",
    "```\n",
    "SELECT\n",
    "\tname,\n",
    "\tprtr_key AS 'GNFR (TODO)',\n",
    "\tadministrative_number AS 'E-PRTR ID',\n",
    "\t'' AS 'Height class (TODO)',\n",
    "\twgs84_x, wgs84_y,\n",
    "\tSUM(annual_load) FILTER (WHERE substance_name like 'Arsen%') AS \"Arsen (kg)\",\n",
    "\tSUM(annual_load / 1000000) FILTER (WHERE substance_name like 'Carbon dioxide%') AS \"CO2 (kt)\",\n",
    "\tSUM(annual_load / 1000) FILTER (WHERE substance_name like 'Sulphur%') AS \"SO2 (t)\"\n",
    "FROM ( <inner query> )\n",
    "GROUP BY id\n",
    "ORDER BY name\n",
    "```\n",
    "\n",
    "Let's go an try this..."
   ]
  },
  {
   "cell_type": "code",
   "execution_count": null,
   "metadata": {},
   "outputs": [],
   "source": [
    "sql_string = open('../sql/all lps one year.sql', mode='r', encoding='utf-8-sig').read()\n",
    "data = pd.read_sql_query(sql_string, connection)\n",
    "\n",
    "print(data.head())"
   ]
  },
  {
   "cell_type": "code",
   "execution_count": null,
   "metadata": {},
   "outputs": [],
   "source": [
    "connection.close()"
   ]
  }
 ],
 "metadata": {
  "kernelspec": {
   "display_name": "Python 3",
   "language": "python",
   "name": "python3"
  },
  "language_info": {
   "codemirror_mode": {
    "name": "ipython",
    "version": 3
   },
   "file_extension": ".py",
   "mimetype": "text/x-python",
   "name": "python",
   "nbconvert_exporter": "python",
   "pygments_lexer": "ipython3",
   "version": "3.8.5"
  }
 },
 "nbformat": 4,
 "nbformat_minor": 4
}
